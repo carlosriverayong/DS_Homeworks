{
 "cells": [
  {
   "cell_type": "code",
   "execution_count": 74,
   "id": "bc0faf94",
   "metadata": {},
   "outputs": [],
   "source": [
    "%matplotlib inline\n",
    "import matplotlib.pyplot as plt\n",
    "import pandas as pd\n",
    "import numpy as np"
   ]
  },
  {
   "cell_type": "code",
   "execution_count": 3,
   "id": "e815344d",
   "metadata": {},
   "outputs": [
    {
     "name": "stdout",
     "output_type": "stream",
     "text": [
      "Tamaño de elementos: 1000\n",
      "Tamaño (bytes): 1000\n"
     ]
    }
   ],
   "source": [
    "array_booleano = np.full((1000,), False, dtype=bool)\n",
    "print(f'Tamaño de elementos: {array_booleano.size}')\n",
    "print(f'Tamaño (bytes): {array_booleano.nbytes}')"
   ]
  },
  {
   "cell_type": "code",
   "execution_count": 4,
   "id": "06a1a50b-2742-4a49-9f12-158d19321152",
   "metadata": {},
   "outputs": [
    {
     "name": "stdout",
     "output_type": "stream",
     "text": [
      "[100  98  96  94  92  90  88  86  84  82]\n"
     ]
    }
   ],
   "source": [
    "enteros_pares = np.arange(2,101,2)\n",
    "enteros_pares_desc = np.sort(enteros_pares)[::-1]\n",
    "print(enteros_pares_desc[0:10])"
   ]
  },
  {
   "cell_type": "code",
   "execution_count": 5,
   "id": "cbf82e6e",
   "metadata": {},
   "outputs": [
    {
     "name": "stdout",
     "output_type": "stream",
     "text": [
      "[[2 4 5 6]\n",
      " [0 3 7 4]\n",
      " [8 8 5 2]\n",
      " [1 5 6 1]]\n"
     ]
    }
   ],
   "source": [
    "array_dado = np.array([[2,4,5,6],[0,3,7,4],[8,8,5,2],[1,5,6,1]])\n",
    "print(array_dado)"
   ]
  },
  {
   "cell_type": "code",
   "execution_count": 7,
   "id": "f1da21c1-4501-499c-86c7-3ef7bb6240d5",
   "metadata": {},
   "outputs": [
    {
     "name": "stdout",
     "output_type": "stream",
     "text": [
      "[[0 3 7 4]]\n"
     ]
    }
   ],
   "source": [
    "print(array_dado[1:2,])"
   ]
  },
  {
   "cell_type": "code",
   "execution_count": 16,
   "id": "408d119f-7ff8-4ef0-83b6-92ad7ad78c11",
   "metadata": {},
   "outputs": [
    {
     "name": "stdout",
     "output_type": "stream",
     "text": [
      "[[2 5]\n",
      " [8 5]]\n"
     ]
    }
   ],
   "source": [
    "slice_subarray = np.array([[array_dado[0,0], array_dado[0,2]],[array_dado[2,1],array_dado[2,2]]])\n",
    "print(slice_subarray)"
   ]
  },
  {
   "cell_type": "code",
   "execution_count": 20,
   "id": "a18343cf-a716-4ae9-aa52-92a07cc60f37",
   "metadata": {},
   "outputs": [
    {
     "name": "stdout",
     "output_type": "stream",
     "text": [
      "[ 0  1  0 -2]\n",
      "La media aritmetica de la resta a-b es: -0.25\n"
     ]
    }
   ],
   "source": [
    "a = np.array([1,4,2,7])\n",
    "b = np.array([1,3,2,9])\n",
    "print(a-b)\n",
    "print(f'La media aritmetica de la resta a-b es: {np.mean(a-b)}')"
   ]
  },
  {
   "cell_type": "code",
   "execution_count": 42,
   "id": "962889d7-87d2-4238-aefe-7265b4f3f2b0",
   "metadata": {},
   "outputs": [
    {
     "name": "stdout",
     "output_type": "stream",
     "text": [
      "(4, 2)\n"
     ]
    }
   ],
   "source": [
    "coordenadas = np.array([[1.33, 4.5], [30.0, 10.7], [70.2, 0.5]])\n",
    "coordenadas = np.append(coordenadas, [[37.1, -3.6]], axis=0)\n",
    "\n",
    "print(coordenadas.shape)"
   ]
  },
  {
   "cell_type": "code",
   "execution_count": 44,
   "id": "affef20f-55fc-4614-bd07-71a67853a63a",
   "metadata": {},
   "outputs": [
    {
     "name": "stdout",
     "output_type": "stream",
     "text": [
      "[[ 1.33 30.   70.2  37.1 ]\n",
      " [ 4.5  10.7   0.5  -3.6 ]]\n",
      "\n",
      "[[ 1.33 30.   70.2  37.1  10.8  35.8 ]\n",
      " [ 4.5  10.7   0.5  -3.6   3.   12.  ]]\n"
     ]
    }
   ],
   "source": [
    "coordenadas2 = coordenadas.T\n",
    "print(coordenadas2)\n",
    "print()\n",
    "coordenadas_transp = np.array([[10.8, 3.0], [35.8,12.0]])\n",
    "coordenadas2 = np.append(coordenadas2, coordenadas_transp.T, axis=1)\n",
    "print(coordenadas2)"
   ]
  },
  {
   "cell_type": "code",
   "execution_count": 76,
   "id": "f52e6742",
   "metadata": {},
   "outputs": [
    {
     "name": "stdout",
     "output_type": "stream",
     "text": [
      "(852, 10)\n"
     ]
    }
   ],
   "source": [
    "dataset = pd.read_csv('NucleosPoblacion.csv')\n",
    "df = pd.DataFrame(dataset)\n",
    "print(df.shape)"
   ]
  },
  {
   "cell_type": "code",
   "execution_count": 69,
   "id": "73a72661-1269-48f4-8878-593cf1c7f49b",
   "metadata": {},
   "outputs": [
    {
     "data": {
      "text/html": [
       "<div>\n",
       "<style scoped>\n",
       "    .dataframe tbody tr th:only-of-type {\n",
       "        vertical-align: middle;\n",
       "    }\n",
       "\n",
       "    .dataframe tbody tr th {\n",
       "        vertical-align: top;\n",
       "    }\n",
       "\n",
       "    .dataframe thead th {\n",
       "        text-align: right;\n",
       "    }\n",
       "</style>\n",
       "<table border=\"1\" class=\"dataframe\">\n",
       "  <thead>\n",
       "    <tr style=\"text-align: right;\">\n",
       "      <th></th>\n",
       "      <th>FID</th>\n",
       "      <th>OBJECTID</th>\n",
       "      <th>Texto</th>\n",
       "      <th>Poblacion</th>\n",
       "      <th>CodMun</th>\n",
       "      <th>Municipio</th>\n",
       "      <th>CodProvin</th>\n",
       "      <th>Provincia</th>\n",
       "      <th>X</th>\n",
       "      <th>Y</th>\n",
       "    </tr>\n",
       "  </thead>\n",
       "  <tbody>\n",
       "    <tr>\n",
       "      <th>0</th>\n",
       "      <td>0</td>\n",
       "      <td>1</td>\n",
       "      <td>Agüimes</td>\n",
       "      <td>29431.0</td>\n",
       "      <td>35002</td>\n",
       "      <td>Agüimes</td>\n",
       "      <td>35</td>\n",
       "      <td>Las Palmas</td>\n",
       "      <td>-15.446012</td>\n",
       "      <td>27.900542</td>\n",
       "    </tr>\n",
       "    <tr>\n",
       "      <th>1</th>\n",
       "      <td>1</td>\n",
       "      <td>2</td>\n",
       "      <td>Antigua</td>\n",
       "      <td>10458.0</td>\n",
       "      <td>35003</td>\n",
       "      <td>Antigua</td>\n",
       "      <td>35</td>\n",
       "      <td>Las Palmas</td>\n",
       "      <td>-14.013301</td>\n",
       "      <td>28.418966</td>\n",
       "    </tr>\n",
       "    <tr>\n",
       "      <th>2</th>\n",
       "      <td>2</td>\n",
       "      <td>3</td>\n",
       "      <td>Arrecife</td>\n",
       "      <td>58156.0</td>\n",
       "      <td>35004</td>\n",
       "      <td>Arrecife</td>\n",
       "      <td>35</td>\n",
       "      <td>Las Palmas</td>\n",
       "      <td>-13.551451</td>\n",
       "      <td>28.960649</td>\n",
       "    </tr>\n",
       "    <tr>\n",
       "      <th>3</th>\n",
       "      <td>3</td>\n",
       "      <td>4</td>\n",
       "      <td>Arucas</td>\n",
       "      <td>36745.0</td>\n",
       "      <td>35006</td>\n",
       "      <td>Arucas</td>\n",
       "      <td>35</td>\n",
       "      <td>Las Palmas</td>\n",
       "      <td>-15.521512</td>\n",
       "      <td>28.117496</td>\n",
       "    </tr>\n",
       "    <tr>\n",
       "      <th>4</th>\n",
       "      <td>4</td>\n",
       "      <td>5</td>\n",
       "      <td>Gáldar</td>\n",
       "      <td>24473.0</td>\n",
       "      <td>35009</td>\n",
       "      <td>Gáldar</td>\n",
       "      <td>35</td>\n",
       "      <td>Las Palmas</td>\n",
       "      <td>-15.654111</td>\n",
       "      <td>28.143873</td>\n",
       "    </tr>\n",
       "  </tbody>\n",
       "</table>\n",
       "</div>"
      ],
      "text/plain": [
       "   FID  OBJECTID     Texto  Poblacion  CodMun Municipio  CodProvin  \\\n",
       "0    0         1   Agüimes    29431.0   35002   Agüimes         35   \n",
       "1    1         2   Antigua    10458.0   35003   Antigua         35   \n",
       "2    2         3  Arrecife    58156.0   35004  Arrecife         35   \n",
       "3    3         4    Arucas    36745.0   35006    Arucas         35   \n",
       "4    4         5    Gáldar    24473.0   35009    Gáldar         35   \n",
       "\n",
       "    Provincia          X          Y  \n",
       "0  Las Palmas -15.446012  27.900542  \n",
       "1  Las Palmas -14.013301  28.418966  \n",
       "2  Las Palmas -13.551451  28.960649  \n",
       "3  Las Palmas -15.521512  28.117496  \n",
       "4  Las Palmas -15.654111  28.143873  "
      ]
     },
     "execution_count": 69,
     "metadata": {},
     "output_type": "execute_result"
    }
   ],
   "source": [
    "df.head()"
   ]
  },
  {
   "cell_type": "code",
   "execution_count": 71,
   "id": "7b1309fa-5615-4fe1-b38e-de34fb8e3ff4",
   "metadata": {},
   "outputs": [
    {
     "name": "stdout",
     "output_type": "stream",
     "text": [
      "Existen 62 municipios con 100,000 habitantes o mas\n"
     ]
    }
   ],
   "source": [
    "Municipios_100K = df[df.Poblacion >= 100000] #indexacion booleana\n",
    "print(f'Existen {Municipios_100K.shape[0] } municipios con 100,000 habitantes o mas')\n"
   ]
  },
  {
   "cell_type": "code",
   "execution_count": 92,
   "id": "42e7d654-143f-4fae-afdd-b63ae3e4f44a",
   "metadata": {},
   "outputs": [
    {
     "data": {
      "text/plain": [
       "<BarContainer object of 852 artists>"
      ]
     },
     "execution_count": 92,
     "metadata": {},
     "output_type": "execute_result"
    },
    {
     "data": {
      "image/png": "[encoded data removed]",
      "text/plain": [
       "<Figure size 640x480 with 1 Axes>"
      ]
     },
     "metadata": {},
     "output_type": "display_data"
    }
   ],
   "source": [
    "df_ascendente = df.sort_values(\"Poblacion\", ascending=True)\n",
    "plt.bar(df_ascendente['Municipio'],df_ascendente['Poblacion'])"
   ]
  },
  {
   "cell_type": "code",
   "execution_count": 91,
   "id": "5cd84ee5-ddcf-4d53-ab6e-d8bcbb174ae2",
   "metadata": {},
   "outputs": [],
   "source": [
    "df_ascendente = df.sort_values(\"Poblacion\", ascending=True)\n",
    "df_excel = df_ascendente.iloc[:, [3, 5]]\n",
    "\n",
    "df_excel.to_excel('OrdenAscendente.xlsx', index=True)\n"
   ]
  },
  {
   "cell_type": "code",
   "execution_count": null,
   "id": "549e4a75-dec2-431e-90fb-5bdb7e3aa3b8",
   "metadata": {},
   "outputs": [],
   "source": []
  }
 ],
 "metadata": {
  "kernelspec": {
   "display_name": "Python 3 (ipykernel)",
   "language": "python",
   "name": "python3"
  },
  "language_info": {
   "codemirror_mode": {
    "name": "ipython",
    "version": 3
   },
   "file_extension": ".py",
   "mimetype": "text/x-python",
   "name": "python",
   "nbconvert_exporter": "python",
   "pygments_lexer": "ipython3",
   "version": "3.9.13"
  }
 },
 "nbformat": 4,
 "nbformat_minor": 5
}
