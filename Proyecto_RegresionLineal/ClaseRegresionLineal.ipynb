{
 "cells": [
  {
   "cell_type": "code",
   "execution_count": 1,
   "id": "cb20e1b0",
   "metadata": {},
   "outputs": [
    {
     "name": "stderr",
     "output_type": "stream",
     "text": [
      "UsageError: Line magic function `%matplotlib.inline` not found.\n"
     ]
    }
   ],
   "source": [
    "%matplotlib.inline\n",
    "import numpy as np\n",
    "import pandas as pd\n",
    "import matplotlib.pyplot as plt"
   ]
  },
  {
   "cell_type": "code",
   "execution_count": 3,
   "id": "31df38b1",
   "metadata": {},
   "outputs": [],
   "source": [
    "class RegresionLineal:\n",
    "    \n",
    "    def __init__(self, epochs = 1000, learning_rate=0.001, nombre=None):\n",
    "        self.learning_rate = learning_rate\n",
    "        self.epochs = epochs\n",
    "        self.pendiente = None\n",
    "        self.intercepto = None\n",
    "        self.nombre = nombre\n",
    "        \n",
    "    def ajustar(self, X_Train, Y_Train, imprimir_error_cada):\n",
    "     \n",
    "     n_filas, n_columnas = X_Train.shape #devuelve una tupla con la forma del dataset ingresado \n",
    "     self.pendiente = np.zeros(n_columnas) \n",
    "     dicc_error = []\n",
    "     \n",
    "     for q in range(self.epochs):\n",
    "         \n",
    "         self.parametros = np.array([[self.pendiente, self.intercepto]]) #se agrupan los parametros de pendiente (m) y el intercepto (b) para poder hacer el truquito de asignar 1 una columna de unos al dataset con el que se busca entrenar el modelo.\n",
    "                 \n",
    "         prediccion_Y = np.dot (X_Train, self.parametros) # se realiza el producto punto para poder determinar la prediccion del valor Y (SalePrice)\n",
    "         error_entreno = (1/(2*n_filas))*np.sum(np.square(prediccion_Y - Y)) #Se calcula la funcion de costo del entrenamiento\n",
    "        \n",
    "         dm = (1/n_filas) * np.dot(X_Train, (prediccion_Y - Y_Train)) #Se utiliza el metodo de des\n",
    "         db = (1/n_filas) * np.sum(prediccion_Y - Y_Train)\n",
    "         \n",
    "         \n",
    "         self.pendiente = self.pendiente - self.learning_rate*dm\n",
    "         self.intercepto = self.intercepto - self.learning_rate*db\n",
    "         \n",
    "         dicc_error.append({\"Epochs:\": q, \"Error:\": error_entreno})\n",
    "         \n",
    "     \n",
    "     if q % imprimir_error_cada == 0:\n",
    "         print(f' El costo en la iteracion {q} es: {error_entreno}')\n",
    "         print()\n",
    "     \n",
    "     \n",
    "     df_error = pd.DataFrame(error_entreno)\n",
    "     return df_error\n",
    "        \n",
    "    \n",
    "    \n",
    "    \n",
    "    def predecir (self, X_Test):\n",
    "        prediccion_Y = np.dot (X_Test, self.parametros)\n",
    "        return prediccion_Y\n",
    "    \n",
    "    \n",
    "    \n",
    "    \n",
    "    def graficar_error_cada(self, df_error, N):\n",
    "        try:\n",
    "            iteraciones = df_error['Epochs:']\n",
    "            errores = df_error['Error:']\n",
    "            iteraciones_a_graficar = iteraciones[::N]\n",
    "            errores_a_graficar = errores[::N]\n",
    "            \n",
    "            \n",
    "            \n",
    "            if self.nombre: #si se le da nombre se coloca como titulo a la grafica ya que si no puede haber confusion de a que dataset de entrenamiento pertenece la grafica. \n",
    "                plt.title(f\"Error del modelo {self.nombre}\")\n",
    "            else:\n",
    "                plt.title(\"Error del modelo\")\n",
    "            \n",
    "            \n",
    "            \n",
    "            plt.plot(iteraciones, errores)\n",
    "            plt.plot(iteraciones_a_graficar, errores_a_graficar, 'o') #se grafica utilizando el marcados 'o'\n",
    "            plt.xlabel('Iteraciones')\n",
    "            plt.ylabel('Error')\n",
    "            plt.show()\n",
    "        except AttributeError:\n",
    "            print(\"El modelo no ha sido entrenado/ajustado, Por favor ajustar el modelo antes de graficar los errores de su entrenamiento.\") #evalua si el modelo ya fue entrenado por que si no no se puede graficar ya que no existiria el dataframe df_error\n",
    "\n",
    "        \n",
    "        \n",
    "            \n",
    "    \n",
    "    \n",
    "\n",
    "    \n",
    "    "
   ]
  }
 ],
 "metadata": {
  "kernelspec": {
   "display_name": "Python 3 (ipykernel)",
   "language": "python",
   "name": "python3"
  },
  "language_info": {
   "codemirror_mode": {
    "name": "ipython",
    "version": 3
   },
   "file_extension": ".py",
   "mimetype": "text/x-python",
   "name": "python",
   "nbconvert_exporter": "python",
   "pygments_lexer": "ipython3",
   "version": "3.9.13"
  }
 },
 "nbformat": 4,
 "nbformat_minor": 5
}
